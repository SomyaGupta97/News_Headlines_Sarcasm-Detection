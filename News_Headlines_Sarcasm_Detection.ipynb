{
  "nbformat": 4,
  "nbformat_minor": 0,
  "metadata": {
    "colab": {
      "name": "News_Headlines_Sarcasm_Detection.ipynb",
      "provenance": []
    },
    "kernelspec": {
      "name": "python3",
      "display_name": "Python 3"
    }
  },
  "cells": [
    {
      "cell_type": "markdown",
      "metadata": {
        "id": "UPFXpMNLaAAg"
      },
      "source": [
        "**Importing Libaries**"
      ]
    },
    {
      "cell_type": "code",
      "metadata": {
        "id": "s-ba2_8TgX2w"
      },
      "source": [
        "import numpy as np \n",
        "import pandas as pd"
      ],
      "execution_count": 50,
      "outputs": []
    },
    {
      "cell_type": "markdown",
      "metadata": {
        "id": "x462XM9YaFNO"
      },
      "source": [
        "**Importing Dataset**"
      ]
    },
    {
      "cell_type": "code",
      "metadata": {
        "id": "K2GL3D1Ghpoe",
        "outputId": "634a1c74-92ff-4120-cd9f-a1ebf3b15914",
        "colab": {
          "base_uri": "https://localhost:8080/",
          "height": 206
        }
      },
      "source": [
        "df1 = pd.read_json(\"Sarcasm_Headlines_Dataset_v2.json\",lines = True)\n",
        "df2 = pd.read_json(\"Sarcasm_Headlines_Dataset.json\", lines = True)\n",
        "\n",
        "df = pd.concat([df1,df2],sort = False)\n",
        "df.tail()\n",
        "\n"
      ],
      "execution_count": 51,
      "outputs": [
        {
          "output_type": "execute_result",
          "data": {
            "text/html": [
              "<div>\n",
              "<style scoped>\n",
              "    .dataframe tbody tr th:only-of-type {\n",
              "        vertical-align: middle;\n",
              "    }\n",
              "\n",
              "    .dataframe tbody tr th {\n",
              "        vertical-align: top;\n",
              "    }\n",
              "\n",
              "    .dataframe thead th {\n",
              "        text-align: right;\n",
              "    }\n",
              "</style>\n",
              "<table border=\"1\" class=\"dataframe\">\n",
              "  <thead>\n",
              "    <tr style=\"text-align: right;\">\n",
              "      <th></th>\n",
              "      <th>is_sarcastic</th>\n",
              "      <th>headline</th>\n",
              "      <th>article_link</th>\n",
              "    </tr>\n",
              "  </thead>\n",
              "  <tbody>\n",
              "    <tr>\n",
              "      <th>26704</th>\n",
              "      <td>0</td>\n",
              "      <td>american politics in moral free-fall</td>\n",
              "      <td>https://www.huffingtonpost.com/entry/american-...</td>\n",
              "    </tr>\n",
              "    <tr>\n",
              "      <th>26705</th>\n",
              "      <td>0</td>\n",
              "      <td>america's best 20 hikes</td>\n",
              "      <td>https://www.huffingtonpost.com/entry/americas-...</td>\n",
              "    </tr>\n",
              "    <tr>\n",
              "      <th>26706</th>\n",
              "      <td>0</td>\n",
              "      <td>reparations and obama</td>\n",
              "      <td>https://www.huffingtonpost.com/entry/reparatio...</td>\n",
              "    </tr>\n",
              "    <tr>\n",
              "      <th>26707</th>\n",
              "      <td>0</td>\n",
              "      <td>israeli ban targeting boycott supporters raise...</td>\n",
              "      <td>https://www.huffingtonpost.com/entry/israeli-b...</td>\n",
              "    </tr>\n",
              "    <tr>\n",
              "      <th>26708</th>\n",
              "      <td>0</td>\n",
              "      <td>gourmet gifts for the foodie 2014</td>\n",
              "      <td>https://www.huffingtonpost.com/entry/gourmet-g...</td>\n",
              "    </tr>\n",
              "  </tbody>\n",
              "</table>\n",
              "</div>"
            ],
            "text/plain": [
              "       is_sarcastic  ...                                       article_link\n",
              "26704             0  ...  https://www.huffingtonpost.com/entry/american-...\n",
              "26705             0  ...  https://www.huffingtonpost.com/entry/americas-...\n",
              "26706             0  ...  https://www.huffingtonpost.com/entry/reparatio...\n",
              "26707             0  ...  https://www.huffingtonpost.com/entry/israeli-b...\n",
              "26708             0  ...  https://www.huffingtonpost.com/entry/gourmet-g...\n",
              "\n",
              "[5 rows x 3 columns]"
            ]
          },
          "metadata": {
            "tags": []
          },
          "execution_count": 51
        }
      ]
    },
    {
      "cell_type": "code",
      "metadata": {
        "id": "-1bIkxL2hquP",
        "outputId": "bb80ae6b-d666-43a8-b5cd-31b9d0d35099",
        "colab": {
          "base_uri": "https://localhost:8080/",
          "height": 315
        }
      },
      "source": [
        "%matplotlib inline\n",
        "import matplotlib.pyplot as plt\n",
        "import seaborn as sns\n",
        "sns.countplot(x = \"is_sarcastic\", data = df)\n",
        "plt.title(\"Data Distribution\")"
      ],
      "execution_count": 52,
      "outputs": [
        {
          "output_type": "execute_result",
          "data": {
            "text/plain": [
              "Text(0.5, 1.0, 'Data Distribution')"
            ]
          },
          "metadata": {
            "tags": []
          },
          "execution_count": 52
        },
        {
          "output_type": "display_data",
          "data": {
            "image/png": "[encoded data removed]",
            "text/plain": [
              "<Figure size 432x288 with 1 Axes>"
            ]
          },
          "metadata": {
            "tags": [],
            "needs_background": "light"
          }
        }
      ]
    },
    {
      "cell_type": "code",
      "metadata": {
        "id": "maUzXeSmkV-I",
        "outputId": "720c6836-2ea4-43c3-c1e2-5d83760d416d",
        "colab": {
          "base_uri": "https://localhost:8080/",
          "height": 73
        }
      },
      "source": [
        "import nltk\n",
        "nltk.download('stopwords')"
      ],
      "execution_count": 53,
      "outputs": [
        {
          "output_type": "stream",
          "text": [
            "[nltk_data] Downloading package stopwords to /root/nltk_data...\n",
            "[nltk_data]   Package stopwords is already up-to-date!\n"
          ],
          "name": "stdout"
        },
        {
          "output_type": "execute_result",
          "data": {
            "text/plain": [
              "True"
            ]
          },
          "metadata": {
            "tags": []
          },
          "execution_count": 53
        }
      ]
    },
    {
      "cell_type": "markdown",
      "metadata": {
        "id": "mtcpP5vfa15o"
      },
      "source": [
        "**Machine Learning**"
      ]
    },
    {
      "cell_type": "markdown",
      "metadata": {
        "id": "p2Gc13_NaMWc"
      },
      "source": [
        "**Data Preprocessing using NLTK**"
      ]
    },
    {
      "cell_type": "code",
      "metadata": {
        "id": "io0C1-RZht6L"
      },
      "source": [
        "from nltk.tokenize import RegexpTokenizer\n",
        "from nltk.corpus import stopwords\n",
        "from nltk.stem import PorterStemmer \n",
        "\n",
        "stop_words =set(stopwords.words(\"english\"))\n",
        "stemmer = PorterStemmer()\n",
        "tokenizer = RegexpTokenizer(r'\\w+')\n",
        "from nltk.stem import PorterStemmer \n",
        "\n",
        "def preprocess(text):\n",
        "  word_list = []\n",
        "  tok = tokenizer.tokenize(text)\n",
        "  for word in tok:\n",
        "    if word not in stop_words:\n",
        "      word_list.append(stemmer.stem(word))\n",
        "  return \" \".join(word_list)"
      ],
      "execution_count": 54,
      "outputs": []
    },
    {
      "cell_type": "code",
      "metadata": {
        "id": "OUFkA8x_hx-5",
        "outputId": "e8bb3421-c515-4c2d-9168-052bba27bedc",
        "colab": {
          "base_uri": "https://localhost:8080/",
          "height": 129
        }
      },
      "source": [
        "x_data = df[\"headline\"].apply(preprocess)\n",
        "x_data.tail()"
      ],
      "execution_count": 55,
      "outputs": [
        {
          "output_type": "execute_result",
          "data": {
            "text/plain": [
              "26704                       american polit moral free fall\n",
              "26705                                 america best 20 hike\n",
              "26706                                          repar obama\n",
              "26707    isra ban target boycott support rais alarm abroad\n",
              "26708                              gourmet gift foodi 2014\n",
              "Name: headline, dtype: object"
            ]
          },
          "metadata": {
            "tags": []
          },
          "execution_count": 55
        }
      ]
    },
    {
      "cell_type": "markdown",
      "metadata": {
        "id": "YrCt_PbIaTjD"
      },
      "source": [
        "**Splitting the dataset into training & test set**"
      ]
    },
    {
      "cell_type": "code",
      "metadata": {
        "id": "T1ONBz8hh01-"
      },
      "source": [
        "from sklearn.model_selection import train_test_split\n",
        "X_train, X_test, y_train, y_test = train_test_split(x_data, df['is_sarcastic'].values, test_size=0.10, random_state=42)"
      ],
      "execution_count": 56,
      "outputs": []
    },
    {
      "cell_type": "markdown",
      "metadata": {
        "id": "Um7iO9BWac9l"
      },
      "source": [
        "**Vectorization of features using TF-IDF Vectorizer**"
      ]
    },
    {
      "cell_type": "code",
      "metadata": {
        "id": "Fhq_AX8Lh6Hr",
        "outputId": "c84f2be6-8b9f-4695-9297-2486c07bf6cb",
        "colab": {
          "base_uri": "https://localhost:8080/",
          "height": 206
        }
      },
      "source": [
        "from sklearn.feature_extraction.text import TfidfVectorizer\n",
        "vectorizer = TfidfVectorizer()\n",
        "x_train_tfidf = vectorizer.fit_transform(X_train)\n",
        "x_test_tfidf = vectorizer.transform(X_test)\n",
        "\n",
        "df_idf = pd.DataFrame(vectorizer.idf_, index=vectorizer.get_feature_names(),columns=[\"idf_weights\"])\n",
        " \n",
        "\n",
        "df_idf.sort_values(by=['idf_weights']).tail()\n",
        "\n"
      ],
      "execution_count": 57,
      "outputs": [
        {
          "output_type": "execute_result",
          "data": {
            "text/html": [
              "<div>\n",
              "<style scoped>\n",
              "    .dataframe tbody tr th:only-of-type {\n",
              "        vertical-align: middle;\n",
              "    }\n",
              "\n",
              "    .dataframe tbody tr th {\n",
              "        vertical-align: top;\n",
              "    }\n",
              "\n",
              "    .dataframe thead th {\n",
              "        text-align: right;\n",
              "    }\n",
              "</style>\n",
              "<table border=\"1\" class=\"dataframe\">\n",
              "  <thead>\n",
              "    <tr style=\"text-align: right;\">\n",
              "      <th></th>\n",
              "      <th>idf_weights</th>\n",
              "    </tr>\n",
              "  </thead>\n",
              "  <tbody>\n",
              "    <tr>\n",
              "      <th>frailti</th>\n",
              "      <td>11.122543</td>\n",
              "    </tr>\n",
              "    <tr>\n",
              "      <th>fraction</th>\n",
              "      <td>11.122543</td>\n",
              "    </tr>\n",
              "    <tr>\n",
              "      <th>foxtrot</th>\n",
              "      <td>11.122543</td>\n",
              "    </tr>\n",
              "    <tr>\n",
              "      <th>stewman</th>\n",
              "      <td>11.122543</td>\n",
              "    </tr>\n",
              "    <tr>\n",
              "      <th>00</th>\n",
              "      <td>11.122543</td>\n",
              "    </tr>\n",
              "  </tbody>\n",
              "</table>\n",
              "</div>"
            ],
            "text/plain": [
              "          idf_weights\n",
              "frailti     11.122543\n",
              "fraction    11.122543\n",
              "foxtrot     11.122543\n",
              "stewman     11.122543\n",
              "00          11.122543"
            ]
          },
          "metadata": {
            "tags": []
          },
          "execution_count": 57
        }
      ]
    },
    {
      "cell_type": "markdown",
      "metadata": {
        "id": "0tS57_ZBalts"
      },
      "source": [
        "**Naive Bayes Classifier**"
      ]
    },
    {
      "cell_type": "code",
      "metadata": {
        "id": "_ZNVqDKlh_LQ",
        "outputId": "87b7e86c-684c-481e-d61f-fedcee18968e",
        "colab": {
          "base_uri": "https://localhost:8080/",
          "height": 54
        }
      },
      "source": [
        "from sklearn.naive_bayes import MultinomialNB\n",
        "\n",
        "nb=MultinomialNB()\n",
        "\n",
        "nb.fit(x_train_tfidf, y_train)\n",
        "print(f\"Training Score : {nb.score(x_train_tfidf, y_train)}\")\n",
        "print(f\"Test Score : {nb.score(x_test_tfidf, y_test)}\")"
      ],
      "execution_count": 58,
      "outputs": [
        {
          "output_type": "stream",
          "text": [
            "Training Score : 0.8885229440706899\n",
            "Test Score : 0.848364359298753\n"
          ],
          "name": "stdout"
        }
      ]
    },
    {
      "cell_type": "code",
      "metadata": {
        "id": "2bvvH1YalzSg",
        "outputId": "861833b5-7673-4298-aa85-e3dd8170c7d9",
        "colab": {
          "base_uri": "https://localhost:8080/",
          "height": 260
        }
      },
      "source": [
        "from  sklearn.metrics import confusion_matrix,classification_report\n",
        "print(\"Confusion Matrix:\")\n",
        "print(confusion_matrix(y_test,nb.predict(x_test_tfidf)))\n",
        "print(\"Summary\")\n",
        "print(classification_report(y_test,nb.predict(x_test_tfidf)))"
      ],
      "execution_count": 60,
      "outputs": [
        {
          "output_type": "stream",
          "text": [
            "Confusion Matrix:\n",
            "[[2681  303]\n",
            " [ 536 2013]]\n",
            "Summary\n",
            "              precision    recall  f1-score   support\n",
            "\n",
            "           0       0.83      0.90      0.86      2984\n",
            "           1       0.87      0.79      0.83      2549\n",
            "\n",
            "    accuracy                           0.85      5533\n",
            "   macro avg       0.85      0.84      0.85      5533\n",
            "weighted avg       0.85      0.85      0.85      5533\n",
            "\n"
          ],
          "name": "stdout"
        }
      ]
    },
    {
      "cell_type": "code",
      "metadata": {
        "id": "JJBa-utvmo9M",
        "outputId": "c10d2187-29ac-40e1-9e84-ddb5e95446af",
        "colab": {
          "base_uri": "https://localhost:8080/",
          "height": 284
        }
      },
      "source": [
        "sns.heatmap(confusion_matrix(y_test,nb.predict(x_test_tfidf)),annot=True,cmap='rainbow')"
      ],
      "execution_count": 16,
      "outputs": [
        {
          "output_type": "execute_result",
          "data": {
            "text/plain": [
              "<matplotlib.axes._subplots.AxesSubplot at 0x7f70979ec390>"
            ]
          },
          "metadata": {
            "tags": []
          },
          "execution_count": 16
        },
        {
          "output_type": "display_data",
          "data": {
            "image/png": "[encoded data removed]",
            "text/plain": [
              "<Figure size 432x288 with 2 Axes>"
            ]
          },
          "metadata": {
            "tags": [],
            "needs_background": "light"
          }
        }
      ]
    },
    {
      "cell_type": "markdown",
      "metadata": {
        "id": "FRHwzLbraq04"
      },
      "source": [
        "**Random Forest Classifier**"
      ]
    },
    {
      "cell_type": "code",
      "metadata": {
        "id": "cqW4EWyqlZWR",
        "outputId": "cf03ce47-14ef-418b-d6cf-9a998efe6a53",
        "colab": {
          "base_uri": "https://localhost:8080/",
          "height": 54
        }
      },
      "source": [
        "from sklearn.ensemble import RandomForestClassifier\n",
        "rf = RandomForestClassifier()\n",
        "rf.fit(x_train_tfidf,y_train)\n",
        "print(f\"Training Score : {rf.score(x_train_tfidf, y_train)}\")\n",
        "print(f\"Test Score : {rf.score(x_test_tfidf, y_test)}\")"
      ],
      "execution_count": 19,
      "outputs": [
        {
          "output_type": "stream",
          "text": [
            "Training Score : 1.0\n",
            "Test Score : 0.969636725103922\n"
          ],
          "name": "stdout"
        }
      ]
    },
    {
      "cell_type": "code",
      "metadata": {
        "id": "A95uJFDZnJfj",
        "outputId": "9dfd557f-2e7a-43db-e21a-368a5ebd5b47",
        "colab": {
          "base_uri": "https://localhost:8080/",
          "height": 260
        }
      },
      "source": [
        "print(\"Confusion Matrix\")\n",
        "print(confusion_matrix(y_test,rf.predict(x_test_tfidf)))\n",
        "print(\"Summary\")\n",
        "print(classification_report(y_test,rf.predict(x_test_tfidf)))"
      ],
      "execution_count": 61,
      "outputs": [
        {
          "output_type": "stream",
          "text": [
            "Confusion Matrix\n",
            "[[2940   44]\n",
            " [ 124 2425]]\n",
            "Summary\n",
            "              precision    recall  f1-score   support\n",
            "\n",
            "           0       0.96      0.99      0.97      2984\n",
            "           1       0.98      0.95      0.97      2549\n",
            "\n",
            "    accuracy                           0.97      5533\n",
            "   macro avg       0.97      0.97      0.97      5533\n",
            "weighted avg       0.97      0.97      0.97      5533\n",
            "\n"
          ],
          "name": "stdout"
        }
      ]
    },
    {
      "cell_type": "code",
      "metadata": {
        "id": "6esLAKM4nWS8",
        "outputId": "6506fa0e-374c-4ee4-86c8-8e28b773b611",
        "colab": {
          "base_uri": "https://localhost:8080/",
          "height": 284
        }
      },
      "source": [
        "sns.heatmap(confusion_matrix(y_test,rf.predict(x_test_tfidf)),annot=True,cmap='rainbow')"
      ],
      "execution_count": 21,
      "outputs": [
        {
          "output_type": "execute_result",
          "data": {
            "text/plain": [
              "<matplotlib.axes._subplots.AxesSubplot at 0x7f70979f5320>"
            ]
          },
          "metadata": {
            "tags": []
          },
          "execution_count": 21
        },
        {
          "output_type": "display_data",
          "data": {
            "image/png": "[encoded data removed]",
            "text/plain": [
              "<Figure size 432x288 with 2 Axes>"
            ]
          },
          "metadata": {
            "tags": [],
            "needs_background": "light"
          }
        }
      ]
    },
    {
      "cell_type": "markdown",
      "metadata": {
        "id": "-KsVUXxua6hC"
      },
      "source": [
        "**Deep Learning**"
      ]
    },
    {
      "cell_type": "markdown",
      "metadata": {
        "id": "EWErPnFpa92l"
      },
      "source": [
        "**Importing libaries**"
      ]
    },
    {
      "cell_type": "code",
      "metadata": {
        "id": "Im-t8tzRn1UO"
      },
      "source": [
        "from keras.models import Model\n",
        "\n",
        "from keras.models import Sequential\n",
        "from keras.layers import Dense , Dropout , Flatten, LSTM, Input, Embedding\n",
        "from keras.optimizers import Adam\n",
        "from sklearn.model_selection import train_test_split\n",
        "\n",
        "from keras.layers import BatchNormalization , Activation"
      ],
      "execution_count": 89,
      "outputs": []
    },
    {
      "cell_type": "markdown",
      "metadata": {
        "id": "opl0GVWGlEuv"
      },
      "source": [
        "**Visualization**"
      ]
    },
    {
      "cell_type": "code",
      "metadata": {
        "id": "K5b1LOhgrIgc"
      },
      "source": [
        "import matplotlib.pyplot as plt\n",
        "\n",
        "\n",
        "def plot_graphs(history, string):\n",
        "    plt.plot(history.history[string])\n",
        "    plt.plot(history.history['val_'+string])\n",
        "    plt.xlabel(\"Epochs\")\n",
        "    plt.ylabel(string)\n",
        "    plt.legend([string, 'val_'+string])\n",
        "    plt.show()\n",
        "\n"
      ],
      "execution_count": 90,
      "outputs": []
    },
    {
      "cell_type": "markdown",
      "metadata": {
        "id": "Iz_-nY0obquP"
      },
      "source": [
        "**Preprocessing the training and test headlines for the word embedding**"
      ]
    },
    {
      "cell_type": "code",
      "metadata": {
        "id": "DR29kS_csln2"
      },
      "source": [
        "from sklearn.model_selection import train_test_split\n",
        "train_data, test_data = train_test_split(df[['headline', 'is_sarcastic']], test_size=0.1)  \n",
        "\n",
        "training_sentences = list(train_data['headline'])\n",
        "training_labels = list(train_data['is_sarcastic'])\n",
        "\n",
        "testing_sentences = list(test_data['headline'])\n",
        "testing_labels = list(test_data['is_sarcastic'])\n",
        "training_labels_final = np.array(training_labels)\n",
        "testing_labels_final = np.array(testing_labels)"
      ],
      "execution_count": 92,
      "outputs": []
    },
    {
      "cell_type": "markdown",
      "metadata": {
        "id": "-de8byBbj22g"
      },
      "source": [
        "**Tokenization and Padding**"
      ]
    },
    {
      "cell_type": "code",
      "metadata": {
        "id": "lTY4p5W4b8Br"
      },
      "source": [
        "vocab_size = 10000 \n",
        "embedding_dim = 16\n",
        "max_length = 120\n",
        "trunc_type='post'\n",
        "oov_tok = \"<OOV>\"\n",
        "\n",
        "from tensorflow.keras.preprocessing.text import Tokenizer\n",
        "from tensorflow.keras.preprocessing.sequence import pad_sequences\n",
        "\n",
        "tokenizer = Tokenizer(num_words = vocab_size, oov_token=oov_tok)\n",
        "tokenizer.fit_on_texts(training_sentences)\n",
        "word_index = tokenizer.word_index\n",
        "sequences = tokenizer.texts_to_sequences(training_sentences)\n",
        "padded = pad_sequences(sequences,maxlen=max_length, truncating=trunc_type)\n",
        "\n",
        "testing_sequences = tokenizer.texts_to_sequences(testing_sentences)\n",
        "testing_padded = pad_sequences(testing_sequences,maxlen=max_length)\n",
        "\n"
      ],
      "execution_count": null,
      "outputs": []
    },
    {
      "cell_type": "markdown",
      "metadata": {
        "id": "dWMJ-Etvb9_K"
      },
      "source": [
        "**Long-Short Term Memory(LSTM)**"
      ]
    },
    {
      "cell_type": "code",
      "metadata": {
        "id": "L2Mtg3LkrlfQ",
        "outputId": "004cd48a-c57f-4ba4-9c12-e1a0032659ee",
        "colab": {
          "base_uri": "https://localhost:8080/",
          "height": 391
        }
      },
      "source": [
        "vocab_size = 10000 \n",
        "embedding_dim = 16\n",
        "max_length = 120\n",
        "trunc_type='post'\n",
        "oov_tok = \"<OOV>\"\n",
        "#Building LSTM model\n",
        "model = tf.keras.Sequential([\n",
        "    tf.keras.layers.Embedding(vocab_size, embedding_dim, input_length=max_length),\n",
        "    tf.keras.layers.Bidirectional(tf.keras.layers.LSTM(32)),\n",
        "    tf.keras.layers.Dense(100, kernel_regularizer=tf.keras.regularizers.l1(0.003), activation='relu'),\n",
        "    tf.keras.layers.BatchNormalization(),\n",
        "    tf.keras.layers.Dropout(0.5),\n",
        "    tf.keras.layers.Dense(1, kernel_regularizer=tf.keras.regularizers.l1(0.003), activation='sigmoid')\n",
        "])\n",
        "\n",
        "model.compile(loss='binary_crossentropy',optimizer='adam',metrics=['accuracy'])\n",
        "model.summary()"
      ],
      "execution_count": 91,
      "outputs": [
        {
          "output_type": "stream",
          "text": [
            "Model: \"sequential_8\"\n",
            "_________________________________________________________________\n",
            "Layer (type)                 Output Shape              Param #   \n",
            "=================================================================\n",
            "embedding_9 (Embedding)      (None, 120, 16)           160000    \n",
            "_________________________________________________________________\n",
            "bidirectional_5 (Bidirection (None, 64)                12544     \n",
            "_________________________________________________________________\n",
            "dense_15 (Dense)             (None, 100)               6500      \n",
            "_________________________________________________________________\n",
            "batch_normalization_3 (Batch (None, 100)               400       \n",
            "_________________________________________________________________\n",
            "dropout_5 (Dropout)          (None, 100)               0         \n",
            "_________________________________________________________________\n",
            "dense_16 (Dense)             (None, 1)                 101       \n",
            "=================================================================\n",
            "Total params: 179,545\n",
            "Trainable params: 179,345\n",
            "Non-trainable params: 200\n",
            "_________________________________________________________________\n"
          ],
          "name": "stdout"
        }
      ]
    },
    {
      "cell_type": "code",
      "metadata": {
        "id": "4AhDtr4Krts-",
        "outputId": "a600cad7-17e7-466c-aaf8-3fef8674d57e",
        "colab": {
          "base_uri": "https://localhost:8080/",
          "height": 411
        }
      },
      "source": [
        "num_epochs = 10\n",
        "history = model.fit(padded, training_labels_final, epochs=num_epochs, batch_size=64, validation_data=(testing_padded, testing_labels_final))"
      ],
      "execution_count": 96,
      "outputs": [
        {
          "output_type": "stream",
          "text": [
            "Epoch 1/10\n",
            "779/779 [==============================] - 69s 89ms/step - loss: 0.0301 - accuracy: 0.9971 - val_loss: 0.1493 - val_accuracy: 0.9720\n",
            "Epoch 2/10\n",
            "779/779 [==============================] - 70s 89ms/step - loss: 0.0376 - accuracy: 0.9949 - val_loss: 0.1599 - val_accuracy: 0.9731\n",
            "Epoch 3/10\n",
            "779/779 [==============================] - 70s 89ms/step - loss: 0.0273 - accuracy: 0.9975 - val_loss: 0.1500 - val_accuracy: 0.9763\n",
            "Epoch 4/10\n",
            "779/779 [==============================] - 69s 89ms/step - loss: 0.0248 - accuracy: 0.9989 - val_loss: 0.1495 - val_accuracy: 0.9774\n",
            "Epoch 5/10\n",
            "779/779 [==============================] - 69s 88ms/step - loss: 0.0278 - accuracy: 0.9975 - val_loss: 0.1444 - val_accuracy: 0.9772\n",
            "Epoch 6/10\n",
            "779/779 [==============================] - 69s 89ms/step - loss: 0.0230 - accuracy: 0.9983 - val_loss: 0.1459 - val_accuracy: 0.9772\n",
            "Epoch 7/10\n",
            "779/779 [==============================] - 70s 90ms/step - loss: 0.0217 - accuracy: 0.9986 - val_loss: 0.1586 - val_accuracy: 0.9749\n",
            "Epoch 8/10\n",
            "779/779 [==============================] - 70s 90ms/step - loss: 0.0248 - accuracy: 0.9982 - val_loss: 0.1536 - val_accuracy: 0.9763\n",
            "Epoch 9/10\n",
            "779/779 [==============================] - 69s 89ms/step - loss: 0.0197 - accuracy: 0.9990 - val_loss: 0.1430 - val_accuracy: 0.9787\n",
            "Epoch 10/10\n",
            "779/779 [==============================] - 70s 89ms/step - loss: 0.0175 - accuracy: 0.9992 - val_loss: 0.1682 - val_accuracy: 0.9756\n"
          ],
          "name": "stdout"
        }
      ]
    },
    {
      "cell_type": "code",
      "metadata": {
        "id": "JqPlhDZrr3V0",
        "outputId": "e26064b9-88d1-4868-f70c-e6c09fd9d2fa",
        "colab": {
          "base_uri": "https://localhost:8080/",
          "height": 542
        }
      },
      "source": [
        "#Evaluating Accuracy and Loss of the LSTM model\n",
        "plot_graphs(history, 'accuracy')\n",
        "plot_graphs(history, 'loss')\n",
        "plt.show()"
      ],
      "execution_count": 46,
      "outputs": [
        {
          "output_type": "display_data",
          "data": {
            "image/png": "[encoded data removed]",
            "text/plain": [
              "<Figure size 432x288 with 1 Axes>"
            ]
          },
          "metadata": {
            "tags": [],
            "needs_background": "light"
          }
        },
        {
          "output_type": "display_data",
          "data": {
            "image/png": "[encoded data removed]",
            "text/plain": [
              "<Figure size 432x288 with 1 Axes>"
            ]
          },
          "metadata": {
            "tags": [],
            "needs_background": "light"
          }
        }
      ]
    },
    {
      "cell_type": "markdown",
      "metadata": {
        "id": "HyfS09rdcJpg"
      },
      "source": [
        "**Convolutional Neural Network(CNN)**"
      ]
    },
    {
      "cell_type": "code",
      "metadata": {
        "id": "mN3KBZvQr4AI",
        "outputId": "b9cbc84b-b9d7-49c2-903c-fea87c27e02e",
        "colab": {
          "base_uri": "https://localhost:8080/",
          "height": 428
        }
      },
      "source": [
        "model = tf.keras.Sequential([\n",
        "    tf.keras.layers.Embedding(vocab_size, embedding_dim, input_length=max_length),\n",
        "    tf.keras.layers.Conv1D(128, 5, activation='relu'),\n",
        "    tf.keras.layers.GlobalAveragePooling1D(),\n",
        "    tf.keras.layers.Dense(100, kernel_regularizer=tf.keras.regularizers.l1(0.003), activation='relu'),\n",
        "    tf.keras.layers.BatchNormalization(),\n",
        "    tf.keras.layers.Dropout(0.3),\n",
        "    tf.keras.layers.Dense(1, kernel_regularizer=tf.keras.regularizers.l1(0.003), activation='sigmoid')\n",
        "])\n",
        "model.compile(loss='binary_crossentropy',optimizer='adam',metrics=['accuracy'])\n",
        "model.summary()"
      ],
      "execution_count": 47,
      "outputs": [
        {
          "output_type": "stream",
          "text": [
            "Model: \"sequential_2\"\n",
            "_________________________________________________________________\n",
            "Layer (type)                 Output Shape              Param #   \n",
            "=================================================================\n",
            "embedding_3 (Embedding)      (None, 120, 16)           160000    \n",
            "_________________________________________________________________\n",
            "conv1d_1 (Conv1D)            (None, 116, 128)          10368     \n",
            "_________________________________________________________________\n",
            "global_average_pooling1d (Gl (None, 128)               0         \n",
            "_________________________________________________________________\n",
            "dense_5 (Dense)              (None, 100)               12900     \n",
            "_________________________________________________________________\n",
            "batch_normalization_1 (Batch (None, 100)               400       \n",
            "_________________________________________________________________\n",
            "dropout_2 (Dropout)          (None, 100)               0         \n",
            "_________________________________________________________________\n",
            "dense_6 (Dense)              (None, 1)                 101       \n",
            "=================================================================\n",
            "Total params: 183,769\n",
            "Trainable params: 183,569\n",
            "Non-trainable params: 200\n",
            "_________________________________________________________________\n"
          ],
          "name": "stdout"
        }
      ]
    },
    {
      "cell_type": "code",
      "metadata": {
        "id": "ZMI7riwssHqw",
        "outputId": "8d40d075-7235-4192-9c26-3555fb0f4cc2",
        "colab": {
          "base_uri": "https://localhost:8080/",
          "height": 411
        }
      },
      "source": [
        "num_epochs = 10\n",
        "history = model.fit(padded, training_labels_final, epochs=num_epochs, batch_size=64, validation_data=(testing_padded, testing_labels_final))"
      ],
      "execution_count": 48,
      "outputs": [
        {
          "output_type": "stream",
          "text": [
            "Epoch 1/10\n",
            "779/779 [==============================] - 14s 18ms/step - loss: 0.6492 - accuracy: 0.8357 - val_loss: 0.3672 - val_accuracy: 0.8590\n",
            "Epoch 2/10\n",
            "779/779 [==============================] - 14s 18ms/step - loss: 0.2651 - accuracy: 0.9177 - val_loss: 0.2847 - val_accuracy: 0.9019\n",
            "Epoch 3/10\n",
            "779/779 [==============================] - 14s 18ms/step - loss: 0.2225 - accuracy: 0.9341 - val_loss: 0.5883 - val_accuracy: 0.7860\n",
            "Epoch 4/10\n",
            "779/779 [==============================] - 15s 19ms/step - loss: 0.1991 - accuracy: 0.9418 - val_loss: 3.6329 - val_accuracy: 0.4795\n",
            "Epoch 5/10\n",
            "779/779 [==============================] - 15s 19ms/step - loss: 0.2018 - accuracy: 0.9398 - val_loss: 5.6952 - val_accuracy: 0.4611\n",
            "Epoch 6/10\n",
            "779/779 [==============================] - 15s 19ms/step - loss: 0.1801 - accuracy: 0.9503 - val_loss: 1.5035 - val_accuracy: 0.6033\n",
            "Epoch 7/10\n",
            "779/779 [==============================] - 15s 19ms/step - loss: 0.1800 - accuracy: 0.9505 - val_loss: 0.2790 - val_accuracy: 0.9105\n",
            "Epoch 8/10\n",
            "779/779 [==============================] - 15s 19ms/step - loss: 0.1567 - accuracy: 0.9559 - val_loss: 10.5242 - val_accuracy: 0.5411\n",
            "Epoch 9/10\n",
            "779/779 [==============================] - 15s 19ms/step - loss: 0.1427 - accuracy: 0.9606 - val_loss: 1.4361 - val_accuracy: 0.6342\n",
            "Epoch 10/10\n",
            "779/779 [==============================] - 15s 19ms/step - loss: 0.1240 - accuracy: 0.9713 - val_loss: 0.2978 - val_accuracy: 0.9082\n"
          ],
          "name": "stdout"
        }
      ]
    },
    {
      "cell_type": "code",
      "metadata": {
        "id": "5TH1I1EysK5l",
        "outputId": "a903b945-c2e7-4533-bd40-f4ec85660118",
        "colab": {
          "base_uri": "https://localhost:8080/",
          "height": 541
        }
      },
      "source": [
        "#Evaluating Accuracy and Loss of the CNN model\n",
        "plot_graphs(history, 'accuracy')\n",
        "plot_graphs(history, 'loss')\n",
        "plt.show()"
      ],
      "execution_count": 49,
      "outputs": [
        {
          "output_type": "display_data",
          "data": {
            "image/png": "[encoded data removed]",
            "text/plain": [
              "<Figure size 432x288 with 1 Axes>"
            ]
          },
          "metadata": {
            "tags": [],
            "needs_background": "light"
          }
        },
        {
          "output_type": "display_data",
          "data": {
            "image/png": "[encoded data removed]",
            "text/plain": [
              "<Figure size 432x288 with 1 Axes>"
            ]
          },
          "metadata": {
            "tags": [],
            "needs_background": "light"
          }
        }
      ]
    }
  ]
}